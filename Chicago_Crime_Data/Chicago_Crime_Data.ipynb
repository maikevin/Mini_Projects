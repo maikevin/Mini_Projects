{
 "cells": [
  {
   "cell_type": "markdown",
   "metadata": {},
   "source": [
    "## Looking at Crime Data in Chicago from DataCamp"
   ]
  },
  {
   "cell_type": "code",
   "execution_count": 13,
   "metadata": {},
   "outputs": [
    {
     "name": "stdout",
     "output_type": "stream",
     "text": [
      "[('05/23/2016 05:35:00 PM', 'ASSAULT', 'STREET', 'false'), ('03/26/2016 08:20:00 PM', 'BURGLARY', 'SMALL RETAIL STORE', 'false'), ('04/25/2016 03:05:00 PM', 'THEFT', 'DEPARTMENT STORE', 'true'), ('04/26/2016 05:30:00 PM', 'BATTERY', 'SIDEWALK', 'false'), ('06/19/2016 01:15:00 AM', 'BATTERY', 'SIDEWALK', 'false'), ('05/28/2016 08:00:00 PM', 'BATTERY', 'GAS STATION', 'false'), ('07/03/2016 03:43:00 PM', 'THEFT', 'OTHER', 'false'), ('06/11/2016 06:55:00 PM', 'PUBLIC PEACE VIOLATION', 'STREET', 'true'), ('10/04/2016 10:20:00 AM', 'BATTERY', 'STREET', 'true'), ('02/14/2017 09:00:00 PM', 'CRIMINAL DAMAGE', 'PARK PROPERTY', 'false')]\n"
     ]
    }
   ],
   "source": [
    "# Import the csv module\n",
    "import csv \n",
    "\n",
    "# Create the file object: csvfile\n",
    "csvfile = open('C:/Users/chappie/Documents/GitHub/Mini_Projects/Chicago_Crime_Data/crime_sampler.csv', 'r')\n",
    "\n",
    "# Create an empty list: crime_data\n",
    "crime_data = []\n",
    "\n",
    "# Loop over a csv reader on the file object\n",
    "for row in csv.reader(csvfile):\n",
    "\n",
    "    # Append the date, type of crime, location description, and arrest\n",
    "    crime_data.append((row[0], row[2], row[4], row[5]))\n",
    "\n",
    "# Remove the first element from crime_data\n",
    "crime_data.pop(0)\n",
    "\n",
    "# Print the first 10 records\n",
    "print(crime_data[:10])"
   ]
  },
  {
   "cell_type": "markdown",
   "metadata": {},
   "source": [
    "### Find the Months with the Highest Number of Crimes"
   ]
  },
  {
   "cell_type": "code",
   "execution_count": 2,
   "metadata": {},
   "outputs": [
    {
     "name": "stdout",
     "output_type": "stream",
     "text": [
      "[(1, 1948), (2, 1862), (7, 1257)]\n"
     ]
    }
   ],
   "source": [
    "# Import necessary modules\n",
    "from collections import Counter\n",
    "from datetime import datetime\n",
    "\n",
    "# Create a Counter Object: crimes_by_month\n",
    "crimes_by_month = Counter()\n",
    "\n",
    "# Loop over the crime_data list\n",
    "for row in crime_data:\n",
    "    \n",
    "    # Convert the first element of each item into a Python Datetime Object\n",
    "    date = datetime.strptime(row[0], '%m/%d/%Y %I:%M:%S %p')\n",
    "    \n",
    "    # Increment the counter for the month of the row by one\n",
    "    crimes_by_month[date.month] += 1\n",
    "    \n",
    "# Print the 3 most common months for crime\n",
    "print(crimes_by_month.most_common(3))"
   ]
  },
  {
   "cell_type": "markdown",
   "metadata": {},
   "source": [
    "### Transforming your Data Containers to Month and Location"
   ]
  },
  {
   "cell_type": "code",
   "execution_count": 3,
   "metadata": {},
   "outputs": [],
   "source": [
    "# Import necessary modules\n",
    "from collections import defaultdict\n",
    "from datetime import datetime"
   ]
  },
  {
   "cell_type": "code",
   "execution_count": 4,
   "metadata": {},
   "outputs": [
    {
     "name": "stdout",
     "output_type": "stream",
     "text": [
      "{5: ['STREET', 'GAS STATION', '', 'PARKING LOT/GARAGE(NON.RESID.)', 'RESIDENCE', 'STREET', 'RESTAURANT', 'SMALL RETAIL STORE', 'STREET', 'APARTMENT', 'SIDEWALK', 'PARKING LOT/GARAGE(NON.RESID.)', 'DEPARTMENT STORE', 'PARKING LOT/GARAGE(NON.RESID.)', 'SMALL RETAIL STORE', 'RESIDENCE', 'STREET', 'RESIDENCE', 'APARTMENT', 'RESIDENCE-GARAGE', 'APARTMENT', 'ALLEY', 'HIGHWAY/EXPRESSWAY', 'SIDEWALK', 'POLICE FACILITY/VEH PARKING LOT', 'RESIDENCE', 'STREET', 'APARTMENT', 'RESIDENCE PORCH/HALLWAY', 'STREET', 'RESIDENCE', 'SMALL RETAIL STORE', 'SCHOOL, PUBLIC, BUILDING', 'SIDEWALK', 'SCHOOL, PUBLIC, BUILDING', 'STREET', 'APARTMENT', 'STREET', 'SIDEWALK', 'SMALL RETAIL STORE', 'ALLEY', 'OTHER', 'APARTMENT', 'STREET', 'RESIDENCE', 'GROCERY FOOD STORE', 'SIDEWALK', 'SCHOOL, PUBLIC, BUILDING', 'APARTMENT', 'APARTMENT', 'PARKING LOT/GARAGE(NON.RESID.)', 'RESIDENCE', 'STREET', 'APARTMENT', 'APARTMENT', 'CURRENCY EXCHANGE', 'RESIDENTIAL YARD (FRONT/BACK)', 'ALLEY', 'CTA TRAIN', 'RESIDENCE', 'RESTAURANT', 'OTHER', 'STREET', 'RESIDENCE', 'RESIDENCE PORCH/HALLWAY', 'APARTMENT', 'GAS STATION', 'SCHOOL, PUBLIC, GROUNDS', 'SIDEWALK', 'STREET', 'RESIDENCE-GARAGE', 'RESIDENCE', 'RESIDENCE-GARAGE', 'RESIDENCE', 'OTHER', 'APARTMENT', 'SIDEWALK', 'SCHOOL, PRIVATE, BUILDING', 'RESIDENCE', 'STREET', 'ALLEY', 'RESIDENCE', 'HOTEL/MOTEL', 'SIDEWALK', 'RESIDENCE PORCH/HALLWAY', 'SIDEWALK', 'ALLEY', 'SIDEWALK', 'ALLEY', 'ALLEY', 'RESIDENCE', 'ALLEY', 'CTA BUS', 'DEPARTMENT STORE', 'RESTAURANT', 'RESIDENCE', 'STREET', 'SIDEWALK', 'DEPARTMENT STORE', 'OTHER', 'APARTMENT', 'RESIDENTIAL YARD (FRONT/BACK)', 'HOTEL/MOTEL', 'BAR OR TAVERN', 'APARTMENT', 'STREET', 'STREET', 'APARTMENT', 'OTHER', 'SCHOOL, PRIVATE, BUILDING', 'ABANDONED BUILDING', 'GAS STATION', 'APARTMENT', 'BANK', 'STREET', 'RESIDENCE', 'SMALL RETAIL STORE', 'APARTMENT', 'STREET', 'RESIDENCE', 'STREET', 'STREET', 'RESIDENCE', 'APARTMENT', 'RESTAURANT', 'APARTMENT', 'STREET', 'STREET', 'RESIDENCE', 'ABANDONED BUILDING', 'RESIDENCE', 'AIRPORT TERMINAL UPPER LEVEL - SECURE AREA', 'PARKING LOT/GARAGE(NON.RESID.)', 'SIDEWALK', 'RESIDENCE', 'RESIDENCE', 'RESIDENCE', 'STREET', 'STREET', 'SCHOOL, PUBLIC, BUILDING', 'RESIDENCE', 'STREET', 'SIDEWALK', 'RESIDENTIAL YARD (FRONT/BACK)', 'SMALL RETAIL STORE', 'RESIDENCE', 'PARKING LOT/GARAGE(NON.RESID.)', 'BANK', 'RESIDENCE', 'ALLEY', 'RESTAURANT', 'APARTMENT', 'STREET', 'RESIDENCE PORCH/HALLWAY', 'SIDEWALK', 'DEPARTMENT STORE', 'GAS STATION', 'PARKING LOT/GARAGE(NON.RESID.)', 'PARK PROPERTY', 'RESIDENTIAL YARD (FRONT/BACK)', 'VEHICLE NON-COMMERCIAL', 'STREET', 'STREET', 'SIDEWALK', 'STREET', 'RESIDENCE', 'STREET', 'APARTMENT', 'ATM (AUTOMATIC TELLER MACHINE)', 'STREET', 'SCHOOL, PUBLIC, BUILDING', 'GAS STATION', 'CTA BUS', 'RESIDENCE', 'STREET', 'DEPARTMENT STORE', 'SIDEWALK', 'SIDEWALK', 'STREET', 'RESIDENCE', 'STREET', 'SIDEWALK', 'ALLEY', 'SIDEWALK', 'STREET', 'RESIDENCE', 'APARTMENT', 'ALLEY', 'SIDEWALK', 'STREET', 'STREET', 'OTHER', 'RESIDENCE', 'RESIDENCE', 'SCHOOL, PUBLIC, BUILDING', 'PARKING LOT/GARAGE(NON.RESID.)', 'RESIDENCE', 'ALLEY', 'STREET', 'APARTMENT', '', 'SCHOOL, PUBLIC, BUILDING', 'STREET', 'APARTMENT', 'GROCERY FOOD STORE', 'RESIDENCE', 'STREET', 'GROCERY FOOD STORE', 'APARTMENT', 'STREET', 'STREET', 'APARTMENT', 'STREET', 'STREET', 'RESTAURANT', 'STREET', 'STREET', 'SCHOOL, PUBLIC, GROUNDS', 'SIDEWALK', 'APARTMENT', 'OTHER', 'OTHER', '', 'SIDEWALK', 'STREET', 'STREET', 'STREET', 'SIDEWALK', 'SIDEWALK', 'CURRENCY EXCHANGE', 'SIDEWALK', 'APARTMENT', 'ALLEY', 'STREET', 'RESIDENCE', 'APARTMENT', 'APARTMENT', 'STREET', 'STREET', 'RESIDENCE', 'CTA STATION', 'STREET', 'STREET', 'RESIDENCE', 'GAS STATION', 'RESIDENCE', 'APARTMENT', 'STREET', 'RESIDENCE', 'STREET', 'STREET', 'STREET', 'DEPARTMENT STORE', 'RESIDENCE', 'ALLEY', 'DRUG STORE', 'STREET', 'STREET', 'SCHOOL, PUBLIC, BUILDING', 'RESIDENCE', 'STREET', 'SIDEWALK', 'DEPARTMENT STORE', 'RESIDENCE', 'STREET', 'APARTMENT', 'PARK PROPERTY', 'VEHICLE NON-COMMERCIAL', 'RESIDENCE', 'VEHICLE NON-COMMERCIAL', 'OTHER', 'RESIDENCE', 'APARTMENT', 'RESIDENCE PORCH/HALLWAY', 'RESIDENCE', 'ALLEY', 'RESIDENCE', 'APARTMENT', 'BANK', 'RESIDENTIAL YARD (FRONT/BACK)', 'SMALL RETAIL STORE', 'SMALL RETAIL STORE', 'APARTMENT', 'RESIDENCE', 'APARTMENT', 'SIDEWALK', 'APARTMENT', 'RESIDENCE-GARAGE', 'RESIDENCE', 'STREET', 'SIDEWALK', 'SCHOOL, PUBLIC, BUILDING', 'APARTMENT', 'STREET', 'CTA STATION', 'OTHER', 'RESIDENCE PORCH/HALLWAY', 'SIDEWALK', 'OTHER', 'SCHOOL, PUBLIC, BUILDING', 'STREET', 'STREET', 'STREET', 'OTHER', 'OTHER', 'STREET', 'SIDEWALK', 'STREET', 'AIRPORT VENDING ESTABLISHMENT', 'STREET', 'PARK PROPERTY', 'STREET', 'CONSTRUCTION SITE', 'RESIDENCE-GARAGE', 'RESIDENCE', 'STREET', 'VEHICLE NON-COMMERCIAL', 'STREET', 'RESIDENCE PORCH/HALLWAY', 'RESIDENCE', 'VEHICLE NON-COMMERCIAL', 'SIDEWALK', 'STREET', 'RESIDENCE', 'RESIDENCE', 'PARK PROPERTY', 'APARTMENT', 'STREET', 'RESIDENCE', 'CTA TRAIN', 'SCHOOL, PUBLIC, BUILDING', 'GAS STATION', 'RESIDENCE', 'ABANDONED BUILDING', 'OTHER', 'STREET', 'STREET', 'GAS STATION', 'RESIDENCE', 'STREET', 'APARTMENT', 'OTHER COMMERCIAL TRANSPORTATION', 'ALLEY', 'APARTMENT', 'PARKING LOT/GARAGE(NON.RESID.)', 'VEHICLE NON-COMMERCIAL', 'ALLEY', 'RESIDENCE', 'CTA TRAIN', 'APARTMENT', 'STREET', 'RESIDENCE', 'RESIDENCE', 'VEHICLE NON-COMMERCIAL', 'STREET', 'RESIDENCE', 'STREET', 'CTA TRAIN', 'GROCERY FOOD STORE', 'CTA BUS STOP', 'STREET', 'SMALL RETAIL STORE', 'APARTMENT', 'PARKING LOT/GARAGE(NON.RESID.)', 'RESIDENTIAL YARD (FRONT/BACK)', 'STREET', 'SIDEWALK', 'SCHOOL, PUBLIC, BUILDING', 'STREET', 'RESTAURANT', 'CTA STATION', 'APARTMENT', 'STREET', 'RESIDENCE', 'RESIDENCE', 'STREET', 'RESIDENCE', 'SMALL RETAIL STORE', 'SCHOOL, PUBLIC, GROUNDS', 'RESIDENCE-GARAGE', 'GAS STATION', 'OTHER', 'RESIDENCE', 'HOTEL/MOTEL', 'RESIDENCE-GARAGE', 'PARKING LOT/GARAGE(NON.RESID.)', 'GROCERY FOOD STORE', 'RESIDENCE', 'PARKING LOT/GARAGE(NON.RESID.)', 'STREET', 'STREET', 'RESIDENCE', 'STREET', 'STREET', 'STREET', 'RESIDENCE', 'OTHER', 'PARKING LOT/GARAGE(NON.RESID.)', 'STREET', 'VEHICLE NON-COMMERCIAL', 'RESIDENCE', 'STREET', 'APARTMENT', 'HOTEL/MOTEL', 'APARTMENT', 'STREET', 'APARTMENT', 'STREET', 'APARTMENT', 'APARTMENT', 'RESIDENCE', 'APARTMENT', 'STREET', 'STREET', 'STREET', 'STREET', 'APARTMENT', 'APARTMENT', 'OTHER', 'STREET', 'PARK PROPERTY', 'OTHER', 'RESIDENCE', 'GAS STATION', 'SIDEWALK', 'RESTAURANT', 'RESIDENCE', 'STREET', 'RESIDENTIAL YARD (FRONT/BACK)', 'STREET', 'RESIDENCE', 'RESIDENCE', 'TAXICAB', 'RESIDENCE', 'CTA STATION', 'STREET', 'POLICE FACILITY/VEH PARKING LOT', 'RESIDENCE', 'STREET', 'STREET', 'SIDEWALK', 'SIDEWALK', 'APARTMENT', 'ALLEY', 'STREET', 'SIDEWALK', 'GAS STATION', 'APARTMENT', 'RESIDENCE', 'CTA TRAIN', 'STREET', 'STREET', 'RESIDENCE', 'CTA TRAIN', 'OTHER', 'VEHICLE NON-COMMERCIAL', 'STREET', 'GAS STATION', 'APARTMENT', 'SIDEWALK', 'APARTMENT', 'RESIDENCE', 'RESIDENCE', 'BAR OR TAVERN', 'STREET', 'COMMERCIAL / BUSINESS OFFICE', 'PARK PROPERTY', 'STREET', 'STREET', 'OTHER', 'RESIDENCE', 'PARKING LOT/GARAGE(NON.RESID.)', 'OTHER', 'ALLEY', 'SCHOOL, PUBLIC, BUILDING', 'STREET', 'GROCERY FOOD STORE', 'SIDEWALK', 'RESTAURANT', 'STREET', 'SIDEWALK', 'STREET', 'APARTMENT', 'VEHICLE NON-COMMERCIAL', 'STREET', 'APARTMENT', 'SIDEWALK', 'RESIDENCE', 'RESIDENCE-GARAGE', 'APARTMENT', 'GROCERY FOOD STORE', 'RESIDENCE', 'SIDEWALK', 'APARTMENT', 'RESIDENCE', 'STREET', 'APARTMENT', 'STREET', 'RESIDENCE-GARAGE', 'OTHER', 'STREET', 'CHA PARKING LOT/GROUNDS', 'SIDEWALK', 'SIDEWALK', 'RESIDENCE', 'RESIDENTIAL YARD (FRONT/BACK)', 'STREET', 'ALLEY', 'STREET', 'SIDEWALK', 'APARTMENT', 'STREET', 'RESIDENCE', 'ABANDONED BUILDING', 'DEPARTMENT STORE', 'RESIDENCE', 'RESIDENTIAL YARD (FRONT/BACK)', 'OTHER', 'POLICE FACILITY/VEH PARKING LOT', 'RESIDENCE-GARAGE', 'RESIDENCE', 'DRUG STORE', 'TAVERN/LIQUOR STORE', 'APARTMENT', 'STREET', 'OTHER', 'STREET', 'SCHOOL, PUBLIC, BUILDING', 'STREET', 'OTHER', 'RESTAURANT', 'APARTMENT', 'STREET', 'GROCERY FOOD STORE', 'PARK PROPERTY', 'ALLEY', 'APARTMENT', 'ALLEY', 'PARKING LOT/GARAGE(NON.RESID.)', 'APARTMENT', 'STREET', 'STREET', 'APARTMENT', 'SIDEWALK', 'STREET', 'RESIDENCE', 'STREET', 'SIDEWALK', 'RESIDENCE', 'APARTMENT', 'PARKING LOT/GARAGE(NON.RESID.)', 'SIDEWALK', 'SCHOOL, PUBLIC, BUILDING', 'CONVENIENCE STORE', 'RESIDENCE', 'APARTMENT', 'SIDEWALK', 'ALLEY', 'STREET', 'SIDEWALK', 'PARKING LOT/GARAGE(NON.RESID.)', 'RESIDENCE-GARAGE', 'APARTMENT', 'APARTMENT', 'SMALL RETAIL STORE', 'STREET', 'STREET', 'RESIDENCE', 'APARTMENT', 'RESIDENCE', 'RESIDENCE', 'RESIDENCE', '', 'RESIDENCE', 'RESIDENCE', 'OTHER', 'RESIDENCE', 'RESTAURANT', 'COMMERCIAL / BUSINESS OFFICE', 'GOVERNMENT BUILDING/PROPERTY', 'STREET', 'RESIDENCE', 'STREET', 'STREET', 'RESIDENCE', 'ALLEY', 'STREET', 'STREET', 'STREET', 'VEHICLE NON-COMMERCIAL', 'ALLEY', 'PARK PROPERTY', 'STREET', 'RESIDENCE-GARAGE', 'DEPARTMENT STORE', 'RESIDENCE', 'RESIDENCE', 'DRUG STORE', 'SIDEWALK', 'APARTMENT', 'RESIDENCE', 'SIDEWALK', 'PARK PROPERTY', 'RESIDENCE', 'GROCERY FOOD STORE', 'RESIDENCE PORCH/HALLWAY', 'GAS STATION', 'SIDEWALK', 'GROCERY FOOD STORE', 'RESIDENCE', 'RESIDENCE', 'RESIDENTIAL YARD (FRONT/BACK)', 'RESIDENCE', 'OTHER', 'APARTMENT', 'SCHOOL, PRIVATE, BUILDING', 'APARTMENT', 'PARK PROPERTY', 'APARTMENT', 'VEHICLE NON-COMMERCIAL', 'DAY CARE CENTER', 'DEPARTMENT STORE', 'SIDEWALK', 'OTHER', 'PARKING LOT/GARAGE(NON.RESID.)', 'SMALL RETAIL STORE', 'RESIDENCE', 'APARTMENT', 'RESIDENCE', 'RESIDENCE PORCH/HALLWAY', 'RESIDENCE', 'STREET', 'RESIDENCE', 'DEPARTMENT STORE', 'STREET', 'APARTMENT', 'SIDEWALK', 'RESIDENTIAL YARD (FRONT/BACK)', 'STREET', 'STREET', 'STREET', '', 'RESIDENTIAL YARD (FRONT/BACK)', 'RESIDENCE', 'RESIDENCE', 'STREET', 'APARTMENT', 'APARTMENT', 'STREET', 'ALLEY', 'SIDEWALK', 'STREET', 'RESIDENCE', 'STREET', 'SIDEWALK', 'RESIDENTIAL YARD (FRONT/BACK)', 'RESIDENCE-GARAGE', 'RESTAURANT', 'PARKING LOT/GARAGE(NON.RESID.)', 'STREET', 'STREET', 'APARTMENT', 'SIDEWALK', 'RESIDENCE', 'STREET', 'RESIDENCE', 'RESIDENCE', 'SIDEWALK', 'SIDEWALK', 'CTA STATION', 'GROCERY FOOD STORE', 'STREET', 'STREET', 'RESIDENCE-GARAGE', 'SIDEWALK', 'CTA BUS STOP', 'SIDEWALK', 'RESIDENCE', 'GROCERY FOOD STORE', 'RESIDENCE', 'CAR WASH', 'RESIDENCE', 'VEHICLE NON-COMMERCIAL', 'SCHOOL, PUBLIC, BUILDING', 'APARTMENT', 'VEHICLE NON-COMMERCIAL', 'PARKING LOT/GARAGE(NON.RESID.)', 'RESIDENCE', 'STREET', 'SMALL RETAIL STORE', 'STREET', 'RESIDENCE-GARAGE', 'VEHICLE NON-COMMERCIAL', 'STREET', 'ALLEY', 'PARK PROPERTY', 'RESIDENCE', 'STREET', 'RESIDENCE', 'RESIDENCE', 'STREET', 'RESIDENCE PORCH/HALLWAY', 'PARKING LOT/GARAGE(NON.RESID.)', 'DEPARTMENT STORE', 'SIDEWALK', 'SIDEWALK', 'VEHICLE NON-COMMERCIAL', 'DRUG STORE', 'CTA BUS', 'STREET', 'AIRPORT PARKING LOT', 'APARTMENT', 'STREET', 'STREET', 'PARK PROPERTY', 'VEHICLE NON-COMMERCIAL', 'SIDEWALK', 'COLLEGE/UNIVERSITY RESIDENCE HALL', 'STREET', 'APARTMENT', 'VEHICLE NON-COMMERCIAL', 'SIDEWALK', 'PARKING LOT/GARAGE(NON.RESID.)', 'RESIDENTIAL YARD (FRONT/BACK)', 'VACANT LOT/LAND', 'RESIDENTIAL YARD (FRONT/BACK)', 'RESIDENCE', 'STREET', 'RESIDENCE-GARAGE', 'RESIDENCE-GARAGE', 'STREET', 'ATHLETIC CLUB', 'RESIDENCE', 'ALLEY', 'DRUG STORE', 'RESIDENCE', 'PARKING LOT/GARAGE(NON.RESID.)', 'CHA APARTMENT', 'STREET', 'SIDEWALK', 'CTA STATION', 'OTHER', 'SIDEWALK', 'SIDEWALK', 'STREET', 'STREET', 'SCHOOL, PUBLIC, BUILDING', 'STREET', 'STREET', 'SCHOOL, PUBLIC, GROUNDS', 'RESIDENCE', 'RESTAURANT', 'STREET', 'VACANT LOT/LAND', 'STREET', 'RESIDENCE PORCH/HALLWAY', 'RESIDENCE', 'APARTMENT', 'ALLEY', 'APARTMENT', 'RESIDENCE', 'ALLEY', 'RESIDENCE', 'RESIDENCE PORCH/HALLWAY', 'STREET', 'STREET', 'APARTMENT', 'STREET', 'ANIMAL HOSPITAL', 'VEHICLE NON-COMMERCIAL', 'STREET', 'STREET', 'RESTAURANT', 'STREET', 'ATM (AUTOMATIC TELLER MACHINE)', 'STREET', 'APARTMENT', 'RESIDENCE PORCH/HALLWAY', 'STREET', 'STREET', 'STREET', 'OTHER', 'RESIDENCE-GARAGE', 'VEHICLE NON-COMMERCIAL', 'STREET', 'VEHICLE NON-COMMERCIAL', 'RESIDENCE', 'RESIDENCE', 'SMALL RETAIL STORE', 'SIDEWALK', 'APARTMENT', 'OTHER', 'RESIDENTIAL YARD (FRONT/BACK)', 'SIDEWALK', 'RESIDENCE', 'VEHICLE NON-COMMERCIAL', 'GAS STATION', 'SIDEWALK', 'OTHER', 'APARTMENT', 'APARTMENT', 'PARKING LOT/GARAGE(NON.RESID.)', 'RESIDENCE-GARAGE', 'GROCERY FOOD STORE', 'RESIDENCE', 'SIDEWALK', 'RESIDENCE-GARAGE', 'CHA PARKING LOT/GROUNDS', 'VEHICLE NON-COMMERCIAL', 'RESIDENCE PORCH/HALLWAY', 'RESIDENCE', 'RESTAURANT', 'APARTMENT', 'SIDEWALK', 'STREET', 'STREET', 'STREET', 'RESIDENCE-GARAGE', 'SIDEWALK', 'GAS STATION', 'SIDEWALK', 'APARTMENT', 'STREET', 'APARTMENT', 'GAS STATION', 'STREET', 'STREET', 'APARTMENT', 'STREET', 'RESIDENCE', 'OTHER', 'SIDEWALK', 'STREET', 'RESIDENCE', 'RESIDENTIAL YARD (FRONT/BACK)', 'SIDEWALK', 'STREET', 'STREET', 'APARTMENT', 'RESIDENCE', 'RESIDENCE-GARAGE', 'RESIDENCE', 'STREET', 'ABANDONED BUILDING', 'APARTMENT', 'CTA TRAIN', 'SIDEWALK', 'CTA TRAIN', 'RESIDENCE', 'APARTMENT', 'STREET', 'APARTMENT', 'RESIDENCE', 'OTHER', 'RESIDENCE', 'SIDEWALK', 'STREET', 'RESIDENCE', 'RESIDENCE', 'LIBRARY', 'RESIDENCE', 'RESIDENCE-GARAGE', 'RESIDENCE', 'STREET', 'STREET', 'APARTMENT', 'RESIDENCE PORCH/HALLWAY', 'SIDEWALK', 'APARTMENT', 'RESIDENCE PORCH/HALLWAY', 'APARTMENT', 'CHA PARKING LOT/GROUNDS', 'RESIDENCE', 'SIDEWALK', 'PARKING LOT/GARAGE(NON.RESID.)', 'STREET', 'STREET', 'STREET', 'SIDEWALK', 'PARKING LOT/GARAGE(NON.RESID.)', 'RESIDENCE', 'STREET', 'APARTMENT', 'SIDEWALK', 'APARTMENT', 'STREET', 'COMMERCIAL / BUSINESS OFFICE', 'STREET', 'COMMERCIAL / BUSINESS OFFICE', 'OTHER', 'RESIDENCE', 'ABANDONED BUILDING', 'RESIDENCE', 'STREET', 'SIDEWALK', 'APARTMENT', 'STREET', 'SIDEWALK', 'GROCERY FOOD STORE', 'DRUG STORE', 'SIDEWALK', 'RESIDENCE', 'DRUG STORE', 'OTHER', 'RESIDENCE', 'SIDEWALK', 'STREET', 'RESIDENCE', 'RESIDENCE', 'STREET', 'RESIDENCE', 'SIDEWALK', 'RESIDENCE', 'SIDEWALK', 'RESIDENCE PORCH/HALLWAY', 'APARTMENT', 'APARTMENT', 'SIDEWALK', 'APARTMENT', 'COMMERCIAL / BUSINESS OFFICE', 'RESIDENCE', 'SIDEWALK', 'GROCERY FOOD STORE', 'CONVENIENCE STORE', 'STREET', 'PARK PROPERTY', 'CTA STATION', 'RESIDENCE', 'ATM (AUTOMATIC TELLER MACHINE)', 'SCHOOL, PUBLIC, GROUNDS', 'SCHOOL, PUBLIC, BUILDING', 'OTHER', 'STREET', 'SIDEWALK', 'SIDEWALK', 'STREET', 'ALLEY', 'STREET', 'RESIDENCE', 'ALLEY', 'STREET', 'OTHER', 'RESIDENCE-GARAGE', 'SIDEWALK', 'PARKING LOT/GARAGE(NON.RESID.)', 'APARTMENT', 'PARKING LOT/GARAGE(NON.RESID.)', 'SIDEWALK', 'SIDEWALK', 'APARTMENT', 'SIDEWALK', 'APARTMENT', 'STREET', 'RESIDENCE', 'STREET', 'OTHER', 'DEPARTMENT STORE', 'AIRPORT TERMINAL MEZZANINE - NON-SECURE AREA', 'RESIDENCE', 'CURRENCY EXCHANGE', 'APARTMENT', 'SIDEWALK', 'RESIDENCE', 'SIDEWALK', 'STREET', 'APARTMENT', 'AIRPORT TERMINAL LOWER LEVEL - NON-SECURE AREA', 'STREET', 'STREET', 'STREET', 'RESIDENCE', 'APARTMENT', 'STREET', 'STREET', 'OTHER', 'STREET', 'RESIDENCE-GARAGE', 'COMMERCIAL / BUSINESS OFFICE', 'SMALL RETAIL STORE', 'APARTMENT', 'SIDEWALK', 'RESIDENCE', 'STREET', 'STREET', 'APARTMENT', 'SIDEWALK', 'RESIDENTIAL YARD (FRONT/BACK)', 'RESIDENTIAL YARD (FRONT/BACK)', 'APARTMENT', 'RESTAURANT', 'ALLEY', 'STREET', 'RESIDENTIAL YARD (FRONT/BACK)', 'DRIVEWAY - RESIDENTIAL', 'ALLEY', 'RESIDENCE', 'RESTAURANT', 'SIDEWALK', 'RESIDENCE-GARAGE', 'AIRPORT TERMINAL LOWER LEVEL - NON-SECURE AREA', 'STREET', 'STREET', 'PARKING LOT/GARAGE(NON.RESID.)', 'RESIDENTIAL YARD (FRONT/BACK)', 'RESIDENCE', 'AIRPORT TERMINAL MEZZANINE - NON-SECURE AREA', 'SCHOOL, PUBLIC, BUILDING', 'APARTMENT', 'GROCERY FOOD STORE', 'SIDEWALK', 'RESTAURANT', 'OTHER', 'SMALL RETAIL STORE', 'RESIDENCE', 'APARTMENT', 'RESIDENCE', 'APARTMENT', 'STREET', 'CONSTRUCTION SITE', 'SIDEWALK', 'STREET', 'RESIDENCE', 'APARTMENT', 'SIDEWALK', 'CTA TRAIN', 'STREET', 'SIDEWALK', 'APARTMENT', 'STREET', 'PARKING LOT/GARAGE(NON.RESID.)', 'APPLIANCE STORE', 'APARTMENT', 'APARTMENT', 'TAVERN/LIQUOR STORE', 'RESIDENCE', 'RESIDENCE', 'RESIDENTIAL YARD (FRONT/BACK)', 'RESIDENTIAL YARD (FRONT/BACK)', 'STREET', 'RESIDENCE', 'STREET', 'CHA PARKING LOT/GROUNDS', 'RESIDENCE', 'DRIVEWAY - RESIDENTIAL', 'SCHOOL, PRIVATE, GROUNDS', 'RESIDENCE-GARAGE', 'SIDEWALK', 'VACANT LOT/LAND', 'SIDEWALK', 'APARTMENT', 'RESIDENTIAL YARD (FRONT/BACK)', 'GAS STATION', 'STREET', 'ALLEY', 'APARTMENT', 'VEHICLE NON-COMMERCIAL', 'CTA GARAGE / OTHER PROPERTY', 'PARKING LOT/GARAGE(NON.RESID.)', 'CHA APARTMENT', 'SMALL RETAIL STORE', 'RESIDENCE', 'RESIDENCE', 'STREET', 'SCHOOL, PUBLIC, BUILDING', 'RESIDENCE PORCH/HALLWAY', 'SIDEWALK', 'GAS STATION', 'CTA TRAIN', 'CTA PLATFORM', 'COMMERCIAL / BUSINESS OFFICE', 'STREET', 'RESIDENCE', 'DEPARTMENT STORE', 'SIDEWALK', 'APARTMENT', 'STREET', 'DEPARTMENT STORE', 'RESIDENCE-GARAGE', 'RESIDENTIAL YARD (FRONT/BACK)', 'RESIDENTIAL YARD (FRONT/BACK)', 'STREET', 'RESTAURANT', 'STREET', 'STREET', 'SMALL RETAIL STORE', 'SCHOOL, PUBLIC, GROUNDS', 'CTA STATION', 'SIDEWALK', 'APARTMENT', 'RESIDENTIAL YARD (FRONT/BACK)', 'STREET', 'RESTAURANT']}\n"
     ]
    }
   ],
   "source": [
    "# Create a dictionary that defaults to a list: locations_by_month\n",
    "locations_by_month = defaultdict(list)\n",
    "\n",
    "# Loop over the crime_data list\n",
    "for row in crime_data:\n",
    "    # Convert the first element to a date object\n",
    "    date = datetime.strptime(row[0], '%m/%d/%Y %I:%M:%S %p')\n",
    "    \n",
    "    # If the year is 2016 \n",
    "    if date.year == 2016:\n",
    "        # Set the dictionary key to the month and append the location (fifth element) to the values list\n",
    "        locations_by_month[date.month].append(row[2])\n",
    "    \n",
    "# Print the dictionary\n",
    "#print(locations_by_month)\n",
    "print(dict(list(locations_by_month.items())[0:1]))"
   ]
  },
  {
   "cell_type": "markdown",
   "metadata": {},
   "source": [
    "### Find the Most Common Crimes by Location Type by Month in 2016"
   ]
  },
  {
   "cell_type": "code",
   "execution_count": 5,
   "metadata": {},
   "outputs": [
    {
     "name": "stdout",
     "output_type": "stream",
     "text": [
      "5\n",
      "[('STREET', 241), ('RESIDENCE', 175), ('APARTMENT', 128), ('SIDEWALK', 111), ('OTHER', 41)]\n",
      "3\n",
      "[('STREET', 240), ('RESIDENCE', 190), ('APARTMENT', 139), ('SIDEWALK', 99), ('OTHER', 52)]\n",
      "4\n",
      "[('STREET', 213), ('RESIDENCE', 171), ('APARTMENT', 152), ('SIDEWALK', 96), ('OTHER', 40)]\n",
      "6\n",
      "[('STREET', 245), ('RESIDENCE', 164), ('APARTMENT', 159), ('SIDEWALK', 123), ('PARKING LOT/GARAGE(NON.RESID.)', 44)]\n",
      "7\n",
      "[('STREET', 309), ('RESIDENCE', 177), ('APARTMENT', 166), ('SIDEWALK', 125), ('OTHER', 47)]\n",
      "10\n",
      "[('STREET', 248), ('RESIDENCE', 206), ('APARTMENT', 122), ('SIDEWALK', 92), ('OTHER', 62)]\n",
      "12\n",
      "[('STREET', 207), ('RESIDENCE', 158), ('APARTMENT', 136), ('OTHER', 47), ('SIDEWALK', 46)]\n",
      "1\n",
      "[('STREET', 196), ('RESIDENCE', 160), ('APARTMENT', 153), ('SIDEWALK', 72), ('PARKING LOT/GARAGE(NON.RESID.)', 43)]\n",
      "9\n",
      "[('STREET', 279), ('RESIDENCE', 183), ('APARTMENT', 144), ('SIDEWALK', 121), ('OTHER', 39)]\n",
      "11\n",
      "[('STREET', 236), ('RESIDENCE', 182), ('APARTMENT', 154), ('SIDEWALK', 75), ('OTHER', 41)]\n",
      "8\n",
      "[('STREET', 280), ('RESIDENCE', 199), ('APARTMENT', 144), ('SIDEWALK', 109), ('OTHER', 47)]\n",
      "2\n",
      "[('STREET', 188), ('RESIDENCE', 159), ('APARTMENT', 144), ('SIDEWALK', 73), ('OTHER', 40)]\n"
     ]
    }
   ],
   "source": [
    "# Import Counter from collections\n",
    "from collections import Counter\n",
    "\n",
    "# Loop over the items from locations_by_month using tuple expansion of the month and locations\n",
    "for month, locations in locations_by_month.items():\n",
    "    # Make a Counter of the locations\n",
    "    location_count = Counter(locations)\n",
    "    # Print the month \n",
    "    print(month)\n",
    "    # Print the most common location\n",
    "    print(location_count.most_common(5))"
   ]
  },
  {
   "cell_type": "markdown",
   "metadata": {},
   "source": [
    "## Reading your Data with DictReader and Establishing your Data Containers"
   ]
  },
  {
   "cell_type": "code",
   "execution_count": 6,
   "metadata": {},
   "outputs": [
    {
     "name": "stderr",
     "output_type": "stream",
     "text": [
      "IOPub data rate exceeded.\n",
      "The notebook server will temporarily stop sending output\n",
      "to the client in order to avoid crashing it.\n",
      "To change this limit, set the config variable\n",
      "`--NotebookApp.iopub_data_rate_limit`.\n",
      "\n",
      "Current values:\n",
      "NotebookApp.iopub_data_rate_limit=1000000.0 (bytes/sec)\n",
      "NotebookApp.rate_limit_window=3.0 (secs)\n",
      "\n"
     ]
    }
   ],
   "source": [
    "# Create the CSV file: csvfile\n",
    "csvfile = open('crime_sampler.csv', 'r')\n",
    "\n",
    "# Create a dictionary that defaults to a list: crimes_by_district\n",
    "crimes_by_district = defaultdict(list)\n",
    "\n",
    "# Loop over a DictReader of the CSV file\n",
    "for row in csv.DictReader(csvfile):\n",
    "    # Pop the district from each row: district\n",
    "    district = row.pop('District')\n",
    "    # Append the rest of the data to the list for proper district in crimes_by_district\n",
    "    crimes_by_district[district].append(row)\n",
    "    \n",
    "print(crimes_by_district)"
   ]
  },
  {
   "cell_type": "markdown",
   "metadata": {},
   "source": [
    "## Determine the Arrests by District by Year"
   ]
  },
  {
   "cell_type": "code",
   "execution_count": 7,
   "metadata": {},
   "outputs": [
    {
     "name": "stdout",
     "output_type": "stream",
     "text": [
      "District: 14 \tArrest Count per Year: Counter({2016: 59, 2017: 8})\n",
      "District: 24 \tArrest Count per Year: Counter({2016: 51, 2017: 10})\n",
      "District: 6 \tArrest Count per Year: Counter({2016: 157, 2017: 32})\n",
      "District: 15 \tArrest Count per Year: Counter({2016: 154, 2017: 16})\n",
      "District: 12 \tArrest Count per Year: Counter({2016: 72, 2017: 9})\n",
      "District: 7 \tArrest Count per Year: Counter({2016: 181, 2017: 27})\n",
      "District: 1 \tArrest Count per Year: Counter({2016: 124, 2017: 15})\n",
      "District: 11 \tArrest Count per Year: Counter({2016: 275, 2017: 53})\n",
      "District: 18 \tArrest Count per Year: Counter({2016: 92, 2017: 17})\n",
      "District: 22 \tArrest Count per Year: Counter({2016: 78, 2017: 12})\n",
      "District: 5 \tArrest Count per Year: Counter({2016: 149, 2017: 30})\n",
      "District: 16 \tArrest Count per Year: Counter({2016: 66, 2017: 9})\n",
      "District: 9 \tArrest Count per Year: Counter({2016: 116, 2017: 17})\n",
      "District: 8 \tArrest Count per Year: Counter({2016: 124, 2017: 26})\n",
      "District: 3 \tArrest Count per Year: Counter({2016: 98, 2017: 18})\n",
      "District: 2 \tArrest Count per Year: Counter({2016: 84, 2017: 15})\n",
      "District: 19 \tArrest Count per Year: Counter({2016: 88, 2017: 11})\n",
      "District: 10 \tArrest Count per Year: Counter({2016: 144, 2017: 20})\n",
      "District: 4 \tArrest Count per Year: Counter({2016: 134, 2017: 15})\n",
      "District: 17 \tArrest Count per Year: Counter({2016: 38, 2017: 5})\n",
      "District: 20 \tArrest Count per Year: Counter({2016: 27, 2017: 8})\n",
      "District: 25 \tArrest Count per Year: Counter({2016: 150, 2017: 26})\n",
      "District: 31 \tArrest Count per Year: Counter({2016: 1})\n"
     ]
    }
   ],
   "source": [
    "# Loop over the crimes_by_district using expansion as district and crimes\n",
    "for district, crimes in crimes_by_district.items():\n",
    "    \n",
    "    # Print the district\n",
    "    #print(district)\n",
    "    \n",
    "    # Create an empty Counter object: year_count\n",
    "    year_count = Counter()\n",
    "    \n",
    "    # Loop over the crimes:\n",
    "    for crime in crimes:\n",
    "         # If there was an arrest\n",
    "        if crime['Arrest'] == 'true':\n",
    "            # Convert the Date to a datetime and get the year\n",
    "            year = datetime.strptime(crime['Date'], '%m/%d/%Y %I:%M:%S %p').year\n",
    "            # Increment the Counter for the year\n",
    "            year_count[year] += 1\n",
    "            \n",
    "    # Print the counter\n",
    "    print(\"District:\",district,\"\\tArrest Count per Year:\", year_count)"
   ]
  },
  {
   "cell_type": "markdown",
   "metadata": {},
   "source": [
    "## Unique Crimes by City Block"
   ]
  },
  {
   "cell_type": "code",
   "execution_count": 29,
   "metadata": {},
   "outputs": [],
   "source": [
    "#Must Convert crimes_by_district_values to _crimes_by_block\n",
    "\n",
    "\n",
    "#print(dict(list(crimes_by_district.items())[0:1]))\n",
    "crimes_by_district_values = crimes_by_district.values()\n",
    "CBDV2 = crimes_by_district_values\n",
    "#print(CBDV2)\n",
    "\n",
    "#iterator = iter(CBDV2)\n",
    "#for i in range(1):\n",
    "    #print(next(iterator))\n",
    "\n",
    "\n",
    "#{'14': [OrderedDict([('Date', '05/23/2016 05:35:00 PM'), ('Block', '024XX W DIVISION ST'), ('Primary Type', 'ASSAULT'), ('Description', 'SIMPLE'), ('Location Description', 'STREET'), ('Arrest', 'false'), ('Domestic', 'true')]), "
   ]
  },
  {
   "cell_type": "code",
   "execution_count": 28,
   "metadata": {},
   "outputs": [
    {
     "ename": "TypeError",
     "evalue": "list indices must be integers or slices, not str",
     "output_type": "error",
     "traceback": [
      "\u001b[1;31m---------------------------------------------------------------------------\u001b[0m",
      "\u001b[1;31mTypeError\u001b[0m                                 Traceback (most recent call last)",
      "\u001b[1;32m<ipython-input-28-a100eeaec056>\u001b[0m in \u001b[0;36m<module>\u001b[1;34m\u001b[0m\n\u001b[1;32m----> 1\u001b[1;33m \u001b[0mn_state_st_crimes\u001b[0m \u001b[1;33m=\u001b[0m \u001b[0mset\u001b[0m\u001b[1;33m(\u001b[0m\u001b[0mcrimes_by_block\u001b[0m\u001b[1;33m[\u001b[0m\u001b[1;34m'001XX N STATE ST'\u001b[0m\u001b[1;33m]\u001b[0m\u001b[1;33m)\u001b[0m\u001b[1;33m\u001b[0m\u001b[1;33m\u001b[0m\u001b[0m\n\u001b[0m\u001b[0;32m      2\u001b[0m \u001b[1;33m\u001b[0m\u001b[0m\n\u001b[0;32m      3\u001b[0m \u001b[1;31m# Print the list\u001b[0m\u001b[1;33m\u001b[0m\u001b[1;33m\u001b[0m\u001b[1;33m\u001b[0m\u001b[0m\n\u001b[0;32m      4\u001b[0m \u001b[0mprint\u001b[0m\u001b[1;33m(\u001b[0m\u001b[0mn_state_st_crimes\u001b[0m\u001b[1;33m)\u001b[0m\u001b[1;33m\u001b[0m\u001b[1;33m\u001b[0m\u001b[0m\n\u001b[0;32m      5\u001b[0m \u001b[1;33m\u001b[0m\u001b[0m\n",
      "\u001b[1;31mTypeError\u001b[0m: list indices must be integers or slices, not str"
     ]
    }
   ],
   "source": [
    "# Create a unique list of crimes for the first block: n_state_st_crimes\n",
    "n_state_st_crimes = set(crimes_by_block['001XX N STATE ST'])\n",
    "\n",
    "# Print the list\n",
    "print(n_state_st_crimes)\n",
    "\n",
    "# Create a unique list of crimes for the second block: w_terminal_st_crimes\n",
    "w_terminal_st_crimes = set(crimes_by_block['0000X W TERMINAL ST'])\n",
    "\n",
    "# Print the list\n",
    "print(w_terminal_st_crimes)\n",
    "\n",
    "# Find the differences between the two blocks: crime_differences\n",
    "crime_differences = n_state_st_crimes.difference(w_terminal_st_crimes)\n",
    "\n",
    "# Print the differences\n",
    "print(crime_differences)"
   ]
  }
 ],
 "metadata": {
  "kernelspec": {
   "display_name": "Python 3",
   "language": "python",
   "name": "python3"
  },
  "language_info": {
   "codemirror_mode": {
    "name": "ipython",
    "version": 3
   },
   "file_extension": ".py",
   "mimetype": "text/x-python",
   "name": "python",
   "nbconvert_exporter": "python",
   "pygments_lexer": "ipython3",
   "version": "3.7.4"
  }
 },
 "nbformat": 4,
 "nbformat_minor": 4
}
